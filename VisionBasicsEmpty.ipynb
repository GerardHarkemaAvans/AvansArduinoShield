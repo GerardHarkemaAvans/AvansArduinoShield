{
  "nbformat": 4,
  "nbformat_minor": 0,
  "metadata": {
    "colab": {
      "provenance": [],
      "authorship_tag": "ABX9TyNxgg3NMBrEmSNtPkORb8Z9",
      "include_colab_link": true
    },
    "kernelspec": {
      "name": "python3",
      "display_name": "Python 3"
    },
    "language_info": {
      "name": "python"
    }
  },
  "cells": [
    {
      "cell_type": "markdown",
      "metadata": {
        "id": "view-in-github",
        "colab_type": "text"
      },
      "source": [
        "<a href=\"https://colab.research.google.com/github/GerardHarkemaAvans/AvansArduinoShieldBitOperations/blob/main/VisionBasicsEmpty.ipynb\" target=\"_parent\"><img src=\"https://colab.research.google.com/assets/colab-badge.svg\" alt=\"Open In Colab\"/></a>"
      ]
    },
    {
      "cell_type": "code",
      "source": [
        "!wget https://raw.githubusercontent.com/GerardHarkemaAvans/NiryoNedVisionPython/main/Images/images.zip\n",
        "!unzip images.zip"
      ],
      "metadata": {
        "id": "CHRwc7LMbuYs"
      },
      "execution_count": null,
      "outputs": []
    },
    {
      "cell_type": "code",
      "source": [
        "!pip install opencv-python\n",
        "!pip install pillow\n",
        "!pip install matplotlib"
      ],
      "metadata": {
        "id": "2q8ulfqMcPKk"
      },
      "execution_count": null,
      "outputs": []
    },
    {
      "cell_type": "code",
      "source": [
        "from google.colab.patches import cv2_imshow\n",
        "import cv2\n",
        "import matplotlib.pyplot as plt\n",
        "import numpy as np"
      ],
      "metadata": {
        "id": "Vh7nFCwf97wQ"
      },
      "execution_count": null,
      "outputs": []
    },
    {
      "cell_type": "code",
      "source": [
        "\n",
        "# Make sure the path to the image is correct.\n",
        "image = cv2.imread(\"/content/TestShapes.jpg\")\n",
        "cv2_imshow(image)"
      ],
      "metadata": {
        "id": "GYoqcscjc_iU"
      },
      "execution_count": null,
      "outputs": []
    },
    {
      "cell_type": "code",
      "source": [
        "dimensions = image.shape\n",
        "height = dimensions[0]\n",
        "width = dimensions[1]\n",
        "channels = dimensions[2]\n",
        "\n",
        "print(\"Image Dimension: {} x {} pixels with {} channels\".format(width, height, channels))\n",
        "print(\"Image Dimension: {}\".format(dimensions))"
      ],
      "metadata": {
        "id": "W0PcCfhP7hSS"
      },
      "execution_count": null,
      "outputs": []
    },
    {
      "cell_type": "code",
      "source": [
        "display_name = False\n",
        "if display_name:\n",
        "  # put your name on the image\n",
        "  font                   = cv2.FONT_HERSHEY_SIMPLEX\n",
        "  bottomLeftCornerOfText = (int(width/2), int(height/2))\n",
        "  fontScale              = 1\n",
        "  fontColor              = (0,0,255)\n",
        "  thickness              = 2\n",
        "  lineType               = 2\n",
        "\n",
        "  # Using cv2.putText()\n",
        "  image_with_text = cv2.putText(\n",
        "    img = image,\n",
        "    text = \"<your name>\",\n",
        "    org = (int(width/2), int(height/2)),\n",
        "    fontFace = font,\n",
        "    fontScale = fontScale,\n",
        "    color = fontColor,\n",
        "    thickness = thickness,\n",
        "    lineType=lineType\n",
        "  )\n",
        "  cv2_imshow(image_with_text)"
      ],
      "metadata": {
        "id": "_c1f33o_7Dml"
      },
      "execution_count": null,
      "outputs": []
    }
  ]
}